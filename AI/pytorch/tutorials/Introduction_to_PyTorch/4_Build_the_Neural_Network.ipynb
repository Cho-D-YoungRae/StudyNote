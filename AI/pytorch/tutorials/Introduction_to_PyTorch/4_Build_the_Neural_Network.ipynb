{
  "nbformat": 4,
  "nbformat_minor": 0,
  "metadata": {
    "colab": {
      "name": "4_Build_the_Neural_Network.ipynb",
      "provenance": [],
      "authorship_tag": "ABX9TyMdcKfIcqdhNcpvz28U/H08"
    },
    "kernelspec": {
      "name": "python3",
      "display_name": "Python 3"
    },
    "language_info": {
      "name": "python"
    },
    "accelerator": "GPU"
  },
  "cells": [
    {
      "cell_type": "code",
      "metadata": {
        "id": "Zrv4o4_r3a7J"
      },
      "source": [
        "import os\n",
        "import torch\n",
        "from torch import nn\n",
        "from torch.utils.data import DataLoader\n",
        "from torchvision import datasets, transforms"
      ],
      "execution_count": 2,
      "outputs": []
    },
    {
      "cell_type": "code",
      "metadata": {
        "colab": {
          "base_uri": "https://localhost:8080/"
        },
        "id": "zvwngfVf5IHj",
        "outputId": "106be518-dd1a-4237-82e7-4ab758aa9ec7"
      },
      "source": [
        "device = 'cuda' if torch.cuda.is_available() else 'cpu'\n",
        "print('Using {} device'.format(device))"
      ],
      "execution_count": 4,
      "outputs": [
        {
          "output_type": "stream",
          "text": [
            "Using cuda device\n"
          ],
          "name": "stdout"
        }
      ]
    },
    {
      "cell_type": "code",
      "metadata": {
        "id": "ziRPutiA5LAe"
      },
      "source": [
        "class NeuralNetwork(nn.Module):\n",
        "  def __init__(self):\n",
        "    super(NeuralNetwork, self).__init__()\n",
        "    self.flatten = nn.Flatten()\n",
        "    self.linear_relu_stack = nn.Sequential(\n",
        "        nn.Linear(28*28, 512),\n",
        "        nn.ReLU(),\n",
        "        nn.Linear(512, 512),\n",
        "        nn.ReLU(),\n",
        "        nn.Linear(512, 10),\n",
        "        nn.ReLU()\n",
        "    )\n",
        "\n",
        "  def forward(self, x):\n",
        "    x = self.flatten(x)\n",
        "    logits = self.linear_relu_stack(x)\n",
        "    return logits"
      ],
      "execution_count": 6,
      "outputs": []
    },
    {
      "cell_type": "code",
      "metadata": {
        "colab": {
          "base_uri": "https://localhost:8080/"
        },
        "id": "DwhBhMcP5zWy",
        "outputId": "37297292-6008-4a96-a868-13946c1a29e5"
      },
      "source": [
        "model = NeuralNetwork().to(device)\n",
        "print(model)"
      ],
      "execution_count": 7,
      "outputs": [
        {
          "output_type": "stream",
          "text": [
            "NeuralNetwork(\n",
            "  (flatten): Flatten(start_dim=1, end_dim=-1)\n",
            "  (linear_relu_stack): Sequential(\n",
            "    (0): Linear(in_features=784, out_features=512, bias=True)\n",
            "    (1): ReLU()\n",
            "    (2): Linear(in_features=512, out_features=512, bias=True)\n",
            "    (3): ReLU()\n",
            "    (4): Linear(in_features=512, out_features=10, bias=True)\n",
            "    (5): ReLU()\n",
            "  )\n",
            ")\n"
          ],
          "name": "stdout"
        }
      ]
    },
    {
      "cell_type": "code",
      "metadata": {
        "colab": {
          "base_uri": "https://localhost:8080/"
        },
        "id": "AWvTKOve6R2_",
        "outputId": "51c4b4f5-f540-43c0-d971-5f315dbc6dec"
      },
      "source": [
        "X = torch.rand(1, 28, 28, device=device)\n",
        "logits = model(X)\n",
        "pred_probab = nn.Softmax(dim=1)(logits)\n",
        "y_pred = pred_probab.argmax(1)\n",
        "print(f\"Predicted class: {y_pred}\")"
      ],
      "execution_count": 8,
      "outputs": [
        {
          "output_type": "stream",
          "text": [
            "Predicted class: tensor([2], device='cuda:0')\n"
          ],
          "name": "stdout"
        }
      ]
    },
    {
      "cell_type": "code",
      "metadata": {
        "colab": {
          "base_uri": "https://localhost:8080/"
        },
        "id": "sO6MuuOw8BHp",
        "outputId": "cc2cb80b-b669-44e8-f5be-21f2b7adf470"
      },
      "source": [
        "input_image = torch.rand(3,28,28)\n",
        "print(input_image.size())"
      ],
      "execution_count": 9,
      "outputs": [
        {
          "output_type": "stream",
          "text": [
            "torch.Size([3, 28, 28])\n"
          ],
          "name": "stdout"
        }
      ]
    },
    {
      "cell_type": "code",
      "metadata": {
        "colab": {
          "base_uri": "https://localhost:8080/"
        },
        "id": "ONmjN5VV8uxl",
        "outputId": "8500014d-e177-4805-fece-bba34dbd2850"
      },
      "source": [
        "flatten = nn.Flatten()\n",
        "flat_image = flatten(input_image)\n",
        "print(flat_image.size())  # 맨 앞자리를 batchsize로 하는듯 -> 채널이 없이 w, h 만 있어도 무관"
      ],
      "execution_count": 11,
      "outputs": [
        {
          "output_type": "stream",
          "text": [
            "torch.Size([3, 784])\n"
          ],
          "name": "stdout"
        }
      ]
    },
    {
      "cell_type": "code",
      "metadata": {
        "colab": {
          "base_uri": "https://localhost:8080/"
        },
        "id": "4meSzdho9Kq4",
        "outputId": "3536bd4f-2c06-40e1-db4d-a3f1260e411f"
      },
      "source": [
        "layer1 = nn.Linear(in_features=28*28, out_features=20)\n",
        "hidden1 = layer1(flat_image)\n",
        "print(hidden1.size())"
      ],
      "execution_count": 12,
      "outputs": [
        {
          "output_type": "stream",
          "text": [
            "torch.Size([3, 20])\n"
          ],
          "name": "stdout"
        }
      ]
    },
    {
      "cell_type": "code",
      "metadata": {
        "colab": {
          "base_uri": "https://localhost:8080/"
        },
        "id": "jW1ueUqO9YHz",
        "outputId": "eb67513d-1a21-419e-ee4d-fe09f8b186f0"
      },
      "source": [
        "print(f\"Before ReLU: {hidden1}\\n\\n\")\n",
        "hidden1 = nn.ReLU()(hidden1)\n",
        "print(f\"Before ReLU: {hidden1}\\n\\n\")"
      ],
      "execution_count": 13,
      "outputs": [
        {
          "output_type": "stream",
          "text": [
            "Before ReLU: tensor([[ 0.0836,  0.3397, -0.2503, -0.0974, -0.0299,  0.3732, -0.3390,  1.0119,\n",
            "         -0.2454, -0.1198, -1.2457,  0.4261,  0.4022, -0.1980, -0.5420,  0.0669,\n",
            "          0.1184, -0.4781,  0.1072,  0.2840],\n",
            "        [ 0.2232,  0.4901, -0.2789, -0.1164,  0.1000,  0.2607, -0.8644,  1.2661,\n",
            "         -0.1357, -0.3086, -0.8552,  0.6580,  0.0971,  0.0167, -0.1136, -0.1596,\n",
            "         -0.0208, -0.0949,  0.3215,  0.1813],\n",
            "        [ 0.1498,  0.4616,  0.0043, -0.0150,  0.2037,  0.4965, -0.6447,  1.0239,\n",
            "         -0.1792, -0.1069, -0.7479,  0.4192,  0.1643,  0.3514, -0.2075, -0.0682,\n",
            "          0.0318,  0.0678,  0.3538,  0.3250]], grad_fn=<AddmmBackward>)\n",
            "\n",
            "\n",
            "Before ReLU: tensor([[0.0836, 0.3397, 0.0000, 0.0000, 0.0000, 0.3732, 0.0000, 1.0119, 0.0000,\n",
            "         0.0000, 0.0000, 0.4261, 0.4022, 0.0000, 0.0000, 0.0669, 0.1184, 0.0000,\n",
            "         0.1072, 0.2840],\n",
            "        [0.2232, 0.4901, 0.0000, 0.0000, 0.1000, 0.2607, 0.0000, 1.2661, 0.0000,\n",
            "         0.0000, 0.0000, 0.6580, 0.0971, 0.0167, 0.0000, 0.0000, 0.0000, 0.0000,\n",
            "         0.3215, 0.1813],\n",
            "        [0.1498, 0.4616, 0.0043, 0.0000, 0.2037, 0.4965, 0.0000, 1.0239, 0.0000,\n",
            "         0.0000, 0.0000, 0.4192, 0.1643, 0.3514, 0.0000, 0.0000, 0.0318, 0.0678,\n",
            "         0.3538, 0.3250]], grad_fn=<ReluBackward0>)\n",
            "\n",
            "\n"
          ],
          "name": "stdout"
        }
      ]
    },
    {
      "cell_type": "code",
      "metadata": {
        "id": "MEsl8V4b-v9h"
      },
      "source": [
        "seq_modules = nn.Sequential(\n",
        "    flatten,\n",
        "    layer1,\n",
        "    nn.ReLU(),\n",
        "    nn.Linear(20, 10)\n",
        ")\n",
        "input_image = torch.rand(3, 28, 28)\n",
        "logits = seq_modules(input_image)"
      ],
      "execution_count": 15,
      "outputs": []
    },
    {
      "cell_type": "code",
      "metadata": {
        "id": "HVdlBsgL_Xfk"
      },
      "source": [
        "softmax = nn.Softmax(dim=1)\n",
        "pred_probab = softmax(logits)"
      ],
      "execution_count": 16,
      "outputs": []
    },
    {
      "cell_type": "code",
      "metadata": {
        "colab": {
          "base_uri": "https://localhost:8080/"
        },
        "id": "8_taENlw_woJ",
        "outputId": "f89d0ef9-3321-4b0e-d3f8-1abf83793349"
      },
      "source": [
        "print(\"Model structure: \", model, \"\\n\\n\")\n",
        "\n",
        "for name, param in model.named_parameters():\n",
        "  print(f\"Layer: {name} | Size: {param.size()} | Values: {param[:2]}\\n\")"
      ],
      "execution_count": 19,
      "outputs": [
        {
          "output_type": "stream",
          "text": [
            "Model structure:  NeuralNetwork(\n",
            "  (flatten): Flatten(start_dim=1, end_dim=-1)\n",
            "  (linear_relu_stack): Sequential(\n",
            "    (0): Linear(in_features=784, out_features=512, bias=True)\n",
            "    (1): ReLU()\n",
            "    (2): Linear(in_features=512, out_features=512, bias=True)\n",
            "    (3): ReLU()\n",
            "    (4): Linear(in_features=512, out_features=10, bias=True)\n",
            "    (5): ReLU()\n",
            "  )\n",
            ") \n",
            "\n",
            "\n",
            "Layer: linear_relu_stack.0.weight | Size: torch.Size([512, 784]) | Values: tensor([[ 0.0247, -0.0341,  0.0077,  ...,  0.0198,  0.0314, -0.0232],\n",
            "        [-0.0246, -0.0255,  0.0174,  ...,  0.0269,  0.0251, -0.0339]],\n",
            "       device='cuda:0', grad_fn=<SliceBackward>)\n",
            "\n",
            "Layer: linear_relu_stack.0.bias | Size: torch.Size([512]) | Values: tensor([-0.0055,  0.0301], device='cuda:0', grad_fn=<SliceBackward>)\n",
            "\n",
            "Layer: linear_relu_stack.2.weight | Size: torch.Size([512, 512]) | Values: tensor([[ 0.0299,  0.0056, -0.0178,  ..., -0.0163, -0.0222,  0.0293],\n",
            "        [-0.0012,  0.0384, -0.0417,  ..., -0.0100,  0.0359,  0.0169]],\n",
            "       device='cuda:0', grad_fn=<SliceBackward>)\n",
            "\n",
            "Layer: linear_relu_stack.2.bias | Size: torch.Size([512]) | Values: tensor([-0.0406,  0.0362], device='cuda:0', grad_fn=<SliceBackward>)\n",
            "\n",
            "Layer: linear_relu_stack.4.weight | Size: torch.Size([10, 512]) | Values: tensor([[-0.0096, -0.0398,  0.0054,  ..., -0.0399, -0.0095, -0.0008],\n",
            "        [-0.0324,  0.0126, -0.0041,  ...,  0.0380, -0.0360,  0.0395]],\n",
            "       device='cuda:0', grad_fn=<SliceBackward>)\n",
            "\n",
            "Layer: linear_relu_stack.4.bias | Size: torch.Size([10]) | Values: tensor([0.0335, 0.0291], device='cuda:0', grad_fn=<SliceBackward>)\n",
            "\n"
          ],
          "name": "stdout"
        }
      ]
    },
    {
      "cell_type": "code",
      "metadata": {
        "id": "4SDZ6Ej-BSIi"
      },
      "source": [
        ""
      ],
      "execution_count": null,
      "outputs": []
    }
  ]
}